{
  "cells": [
    {
      "cell_type": "raw",
      "metadata": {},
      "source": [
        "---\n",
        "title: \"Assignment 1\"\n",
        "---"
      ],
      "id": "d45b4b31"
    },
    {
      "cell_type": "markdown",
      "metadata": {},
      "source": [
        "```{blah blah}\n",
        "\n",
        "```"
      ],
      "id": "a7eea5ef"
    }
  ],
  "metadata": {
    "kernelspec": {
      "name": "python3",
      "language": "python",
      "display_name": "Python 3"
    }
  },
  "nbformat": 4,
  "nbformat_minor": 5
}