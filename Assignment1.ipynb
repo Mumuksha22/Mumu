{
  "cells": [
    {
      "cell_type": "raw",
      "metadata": {},
      "source": [
        "---\n",
        "title: \"Assignment 1\"\n",
        "---"
      ],
      "id": "2db8c920"
    },
    {
      "cell_type": "markdown",
      "metadata": {},
      "source": [
        "```{blah blah}\n",
        "\n",
        "```"
      ],
      "id": "b46d51ae"
    }
  ],
  "metadata": {
    "kernelspec": {
      "name": "python3",
      "language": "python",
      "display_name": "Python 3"
    }
  },
  "nbformat": 4,
  "nbformat_minor": 5
}